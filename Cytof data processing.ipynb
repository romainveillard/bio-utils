{
 "cells": [
  {
   "attachments": {},
   "cell_type": "markdown",
   "metadata": {},
   "source": [
    "# Cytof data processing"
   ]
  },
  {
   "cell_type": "markdown",
   "metadata": {},
   "source": [
    "## Variables definition"
   ]
  },
  {
   "cell_type": "code",
   "execution_count": null,
   "metadata": {},
   "outputs": [
    {
     "data": {
      "text/plain": [
       "['exclu', 'metada']"
      ]
     },
     "execution_count": 10,
     "metadata": {},
     "output_type": "execute_result"
    }
   ],
   "source": [
    "# Specify the folder containing data to analyse\n",
    "folder_path = \"./test_cytof_data\"\n",
    "\n",
    "# Specify the metadata columns\n",
    "metadata_string_columns = []\n",
    "metadata_other_columns = [\"metada\"]\n",
    "metadata_columns = metadata_string_columns + metadata_other_columns\n",
    "\n",
    "# Specify other columns to exclude from processing\n",
    "excluded_columns = [\"exclu\"]\n",
    "\n",
    "# Compute the non data columns in a new variable for easier later use\n",
    "non_data_columns = excluded_columns + metadata_columns"
   ]
  },
  {
   "cell_type": "markdown",
   "metadata": {},
   "source": [
    "## Import common packages"
   ]
  },
  {
   "cell_type": "code",
   "execution_count": null,
   "metadata": {},
   "outputs": [],
   "source": [
    "import os\n",
    "import pandas as pd\n",
    "\n",
    "pd.set_option('display.max_columns', 60)\n",
    "pd.set_option('display.max_rows', 1000)"
   ]
  },
  {
   "attachments": {},
   "cell_type": "markdown",
   "metadata": {},
   "source": [
    "## Concatenate all files"
   ]
  },
  {
   "cell_type": "code",
   "execution_count": null,
   "metadata": {},
   "outputs": [],
   "source": [
    "all_events = pd.DataFrame()\n",
    "\n",
    "# Loop over all files in folder\n",
    "for filename in os.listdir(folder_path):\n",
    "    # Only consider files with '.txt' extension\n",
    "    if filename.endswith('.txt'):\n",
    "        # Build the full path to file\n",
    "        file_path = os.path.join(folder_path, filename)\n",
    "        # Load the file\n",
    "        events = pd.read_csv(file_path, delimiter='\\t')\n",
    "        # Add the file data to the DataFrame containing all events\n",
    "        all_events = pd.concat([all_events, events], ignore_index=True)\n",
    "\n",
    "# Print all events\n",
    "all_events"
   ]
  },
  {
   "cell_type": "markdown",
   "metadata": {},
   "source": [
    "## EMD Generation"
   ]
  },
  {
   "cell_type": "markdown",
   "metadata": {},
   "source": [
    "### Prepare the data"
   ]
  },
  {
   "cell_type": "code",
   "execution_count": null,
   "metadata": {},
   "outputs": [],
   "source": [
    "#drop the metadata to create a df with only numerical data for normalisation/transformation\n",
    "data = all_events.drop(non_data_columns ,axis=1)\n",
    "data"
   ]
  },
  {
   "cell_type": "code",
   "execution_count": null,
   "metadata": {},
   "outputs": [],
   "source": [
    "#make sure all metadata columns are strings (not numberical as this will run into errors)\n",
    "# metadata = all_data.filter(['Date','Patient','Culture','gd_donor','Transduction','Treatment','Replicate','Time','Batch','Cell_type'])\n",
    "# metadata['Batch'] = metadata['Batch'].apply(str)\n",
    "# metadata['gd_donor'] = metadata['gd_donor'].apply(str)\n",
    "# metadata['Patient'] = metadata['Patient'].apply(str)\n",
    "# metadata['Treatment'] = metadata['Treatment'].apply(str)\n",
    "# metadata['Transduction'] = metadata['Transduction'].apply(str)\n",
    "metadata = all_events.filter(metadata_columns)\n",
    "metadata[metadata_string_columns] = metadata[metadata_string_columns].apply(str)\n",
    "metadata  "
   ]
  },
  {
   "attachments": {},
   "cell_type": "markdown",
   "metadata": {},
   "source": [
    "### Select a subset of data (optional)"
   ]
  },
  {
   "cell_type": "code",
   "execution_count": null,
   "metadata": {},
   "outputs": [],
   "source": [
    "#Batches:\n",
    "#Batch 1 = PDO27wt/ko exp B BM/MOPC21/B7C18\n",
    "#Batch 2 = PDO27 ABCEDF7 Tr\n",
    "#Batch 3 = PDO27 ABCDEF7 NT\n",
    "#Batch 4 = PDO21/23/216 ABE7 Tr\n",
    "#Batch 5 = PDO21/23/216 ABE7 NT \n",
    "#Batch 6 = PDO5/11 ABE7 Tr/NT\n",
    "#Batch 7 = PDO75/99 ABE7 Tr/NT\n",
    "#Batch 8 = PDO109/141 ABE7 Tr/NT\n",
    "#Batch 9 = NT/eGFP/eGFP-stIL15 ABE7"
   ]
  },
  {
   "cell_type": "markdown",
   "metadata": {},
   "source": [
    "#### Configuration"
   ]
  },
  {
   "cell_type": "code",
   "execution_count": null,
   "metadata": {},
   "outputs": [],
   "source": [
    "# To enable this process, set this variable to True, False otherwise\n",
    "should_select_a_subset = False\n",
    "\n",
    "# Define here the filter to apply\n",
    "subset_condition = \\\n",
    "    metadata['Patient'].isin(['X','5','11','21','23','27','75','99','109','141','216']) & \\\n",
    "    metadata['gd_donor'].isin(['A','B','E','7']) & \\\n",
    "    metadata['Transduction'].isin(['eGFP-stIL15']) & \\\n",
    "    metadata['Treatment'].isin(['BM','B7C18']) & \\\n",
    "    metadata['Batch'].isin(['Batch2','Batch4','Batch6','Batch7','Batch8'])"
   ]
  },
  {
   "cell_type": "markdown",
   "metadata": {},
   "source": [
    "#### Select the data"
   ]
  },
  {
   "cell_type": "code",
   "execution_count": null,
   "metadata": {},
   "outputs": [],
   "source": [
    "if should_select_a_subset:\n",
    "    #Select eGFP-stIL15 / ABE7 / wt PDO / BM / B7C18 (I was just selecting the data I wanted to use)\n",
    "    data = data.loc[subset_condition]\n",
    "    data"
   ]
  },
  {
   "cell_type": "markdown",
   "metadata": {},
   "source": [
    "#### Select the metadata"
   ]
  },
  {
   "cell_type": "code",
   "execution_count": null,
   "metadata": {},
   "outputs": [],
   "source": [
    "if should_select_a_subset:\n",
    "    #selecting the corresponding metadata\n",
    "    metadata = metadata.loc[subset_condition]\n",
    "    metadata"
   ]
  },
  {
   "cell_type": "markdown",
   "metadata": {},
   "source": [
    "### Arcsinh transformation"
   ]
  },
  {
   "cell_type": "markdown",
   "metadata": {},
   "source": [
    "#### Import package and configuration"
   ]
  },
  {
   "cell_type": "code",
   "execution_count": null,
   "metadata": {},
   "outputs": [],
   "source": [
    "import numpy as np\n",
    "\n",
    "arcsinh_cofactor = 5"
   ]
  },
  {
   "cell_type": "markdown",
   "metadata": {},
   "source": [
    "#### Data processing"
   ]
  },
  {
   "cell_type": "code",
   "execution_count": null,
   "metadata": {},
   "outputs": [],
   "source": [
    "#arcsinh transformation of all raw data\n",
    "data = np.arcsinh(data/arcsinh_cofactor)\n",
    "data"
   ]
  },
  {
   "cell_type": "markdown",
   "metadata": {},
   "source": [
    "# HERE"
   ]
  },
  {
   "cell_type": "code",
   "execution_count": null,
   "metadata": {},
   "outputs": [],
   "source": [
    "#data centering by batch to correct any cytof batch effect\n",
    "as_data_centered = scprep.normalize.batch_mean_center(as_data,sample_idx=subset_metadata['Batch'])\n",
    "as_data_centered"
   ]
  },
  {
   "cell_type": "code",
   "execution_count": null,
   "metadata": {},
   "outputs": [],
   "source": [
    "#combine arcsinh-transformed and mean-centered data with metadata again\n",
    "data_as_meta = pd.concat([as_data_centered, subset_metadata], axis=1)\n",
    "data_as_meta"
   ]
  },
  {
   "cell_type": "code",
   "execution_count": null,
   "metadata": {},
   "outputs": [],
   "source": [
    "data_as_meta.index = np.arange (data_as_meta.shape[0])\n",
    "data_as_meta['Date'] = data_as_meta['Date'].apply(str)\n",
    "data_as_meta['Patient'] = data_as_meta['Patient'].apply(str)\n",
    "data_as_meta['Culture'] = data_as_meta['Culture'].apply(str)\n",
    "data_as_meta['gd_donor'] = data_as_meta['gd_donor'].apply(str)\n",
    "data_as_meta['Transduction'] = data_as_meta['Transduction'].apply(str)\n",
    "data_as_meta['Treatment'] = data_as_meta['Treatment'].apply(str)\n",
    "data_as_meta['Replicate'] = data_as_meta['Replicate'].apply(str)\n",
    "data_as_meta['Time'] = data_as_meta['Time'].apply(str)\n",
    "data_as_meta['Batch'] = data_as_meta['Batch'].apply(str)"
   ]
  },
  {
   "cell_type": "code",
   "execution_count": null,
   "metadata": {},
   "outputs": [],
   "source": [
    "full_data = data_as_meta"
   ]
  },
  {
   "cell_type": "code",
   "execution_count": null,
   "metadata": {},
   "outputs": [],
   "source": [
    "#creat a condition column for every cell in the experiment. Also create a list of all conditions\n",
    "full_data['Condition'] = full_data['Patient'] + '_' + full_data['Culture'] + '_' + full_data['gd_donor'] + '_' + full_data['Transduction'] + '_' + full_data['Treatment'] + '_' + full_data['Batch'] + '_' + full_data['Date'] + '_' + full_data['Replicate']\n",
    "grouped = full_data.groupby(\n",
    "    [\n",
    "        \"Condition\"\n",
    "    ]\n",
    ", as_index=False).mean()\n",
    "\n",
    "full_data.index = np.arange (full_data.shape[0])\n",
    "condition_list = pd.unique(full_data['Condition'].tolist())\n",
    "full_data"
   ]
  },
  {
   "cell_type": "code",
   "execution_count": null,
   "metadata": {},
   "outputs": [],
   "source": [
    "#Define control for pairwise EMD. Here, the controls are all gd monoculture controls including their transduction, treatment and batch. \n",
    "full_data[\"Control\"] =  \"X_gd_\" + full_data[\"gd_donor\"] + '_' + full_data[\"Transduction\"] + '_' +  full_data[\"Treatment\"] + '_' +  full_data[\"Batch\"] + '_' + full_data['Date']\n"
   ]
  },
  {
   "cell_type": "code",
   "execution_count": null,
   "metadata": {},
   "outputs": [],
   "source": [
    "full_data"
   ]
  },
  {
   "cell_type": "code",
   "execution_count": null,
   "metadata": {},
   "outputs": [],
   "source": [
    "no_metadata = full_data.drop(\n",
    "['Date',\n",
    " 'Patient',\n",
    " 'Culture',\n",
    " 'gd_donor',\n",
    " 'Transduction',\n",
    " 'Treatment',\n",
    " 'Replicate',\n",
    " 'Time',\n",
    " 'Batch',\n",
    " 'Cell_type',\n",
    " 'Control',\n",
    "'Condition',\n",
    "], axis=1, inplace=False)\n",
    "no_metadata"
   ]
  },
  {
   "cell_type": "code",
   "execution_count": null,
   "metadata": {},
   "outputs": [],
   "source": [
    "marker_list = list(no_metadata.columns.values)"
   ]
  },
  {
   "cell_type": "code",
   "execution_count": null,
   "metadata": {},
   "outputs": [],
   "source": [
    "condition_list"
   ]
  },
  {
   "cell_type": "code",
   "execution_count": null,
   "metadata": {},
   "outputs": [],
   "source": [
    "#empty df with NaN values to populate with the EMD values you calculate\n",
    "coculture_emds = pd.DataFrame(\n",
    "    np.full((len(condition_list), len(marker_list)), np.nan),\n",
    "    columns=marker_list,\n",
    "    index=condition_list)\n",
    "#coculture_emds"
   ]
  },
  {
   "cell_type": "code",
   "execution_count": null,
   "metadata": {},
   "outputs": [],
   "source": [
    "control_list = pd.unique(full_data['Control'].tolist())\n",
    "#control_list"
   ]
  },
  {
   "cell_type": "code",
   "execution_count": null,
   "metadata": {},
   "outputs": [],
   "source": [
    " #Calculates EMD scores. 'each_line' is a dataframe of all cells from one condition in the list. 'control_df' is a dataframe of all cells from the control that will be compared with 'each_line'. \n",
    " \n",
    " for condition in condition_list:\n",
    "    each_line = full_data.loc[(full_data[\"Condition\"] == condition)]\n",
    "    control_line = each_line['Control']\n",
    "    print(control_line.values[0])\n",
    "    control_df = full_data.loc[full_data[\"Condition\"].str.startswith(control_line.values[0])]\n",
    "#     print(condition,control_df[\"Control\"].values[0])\n",
    "    for marker in marker_list:\n",
    "                    sign = np.sign(each_line[marker].median() - control_df[marker].median())\n",
    "                    if sign == 0:\n",
    "                        sign = np.sign(each_line[marker].mean() - control_df[marker].mean())\n",
    "                    signed_emd = sign*scprep.stats.EMD(\n",
    "                        each_line[marker], control_df[marker]\n",
    "            )\n",
    "                    coculture_emds.loc[condition, marker] = signed_emd\n",
    "\n",
    "assert not coculture_emds.isna().values.any()"
   ]
  },
  {
   "cell_type": "code",
   "execution_count": null,
   "metadata": {},
   "outputs": [],
   "source": [
    "coculture_emds"
   ]
  }
 ],
 "metadata": {
  "kernelspec": {
   "display_name": "Python 3",
   "language": "python",
   "name": "python3"
  },
  "language_info": {
   "codemirror_mode": {
    "name": "ipython",
    "version": 3
   },
   "file_extension": ".py",
   "mimetype": "text/x-python",
   "name": "python",
   "nbconvert_exporter": "python",
   "pygments_lexer": "ipython3",
   "version": "3.9.6"
  }
 },
 "nbformat": 4,
 "nbformat_minor": 4
}
